{
 "cells": [
  {
   "cell_type": "code",
   "execution_count": 1,
   "metadata": {
    "id": "33CFUAwObO88"
   },
   "outputs": [],
   "source": [
    "import pandas as pd\n",
    "import numpy as np\n",
    "import matplotlib.pyplot as plt\n",
    "import seaborn as sns\n",
    "import string\n",
    "import nltk\n",
    "import re\n",
    "import warnings\n",
    "from textblob import TextBlob\n",
    "from nltk.corpus import stopwords\n",
    "from nltk.stem import PorterStemmer, WordNetLemmatizer\n",
    "from sklearn.model_selection import train_test_split\n",
    "from sklearn.feature_extraction.text import TfidfVectorizer\n",
    "from sklearn.feature_extraction.text import CountVectorizer\n",
    "from sklearn.naive_bayes import MultinomialNB,GaussianNB\n",
    "from sklearn.metrics import accuracy_score, classification_report"
   ]
  },
  {
   "cell_type": "markdown",
   "metadata": {},
   "source": [
    "### 1. Data exploration and preprocessing"
   ]
  },
  {
   "cell_type": "markdown",
   "metadata": {},
   "source": [
    "#### Load Dataset"
   ]
  },
  {
   "cell_type": "code",
   "execution_count": 3,
   "metadata": {
    "id": "jiBusib9xUgu"
   },
   "outputs": [
    {
     "data": {
      "text/html": [
       "<div>\n",
       "<style scoped>\n",
       "    .dataframe tbody tr th:only-of-type {\n",
       "        vertical-align: middle;\n",
       "    }\n",
       "\n",
       "    .dataframe tbody tr th {\n",
       "        vertical-align: top;\n",
       "    }\n",
       "\n",
       "    .dataframe thead th {\n",
       "        text-align: right;\n",
       "    }\n",
       "</style>\n",
       "<table border=\"1\" class=\"dataframe\">\n",
       "  <thead>\n",
       "    <tr style=\"text-align: right;\">\n",
       "      <th></th>\n",
       "      <th>Data</th>\n",
       "      <th>Labels</th>\n",
       "    </tr>\n",
       "  </thead>\n",
       "  <tbody>\n",
       "    <tr>\n",
       "      <th>0</th>\n",
       "      <td>Path: cantaloupe.srv.cs.cmu.edu!magnesium.club...</td>\n",
       "      <td>alt.atheism</td>\n",
       "    </tr>\n",
       "    <tr>\n",
       "      <th>1</th>\n",
       "      <td>Newsgroups: alt.atheism\\nPath: cantaloupe.srv....</td>\n",
       "      <td>alt.atheism</td>\n",
       "    </tr>\n",
       "    <tr>\n",
       "      <th>2</th>\n",
       "      <td>Path: cantaloupe.srv.cs.cmu.edu!das-news.harva...</td>\n",
       "      <td>alt.atheism</td>\n",
       "    </tr>\n",
       "    <tr>\n",
       "      <th>3</th>\n",
       "      <td>Path: cantaloupe.srv.cs.cmu.edu!magnesium.club...</td>\n",
       "      <td>alt.atheism</td>\n",
       "    </tr>\n",
       "    <tr>\n",
       "      <th>4</th>\n",
       "      <td>Xref: cantaloupe.srv.cs.cmu.edu alt.atheism:53...</td>\n",
       "      <td>alt.atheism</td>\n",
       "    </tr>\n",
       "  </tbody>\n",
       "</table>\n",
       "</div>"
      ],
      "text/plain": [
       "                                                Data       Labels\n",
       "0  Path: cantaloupe.srv.cs.cmu.edu!magnesium.club...  alt.atheism\n",
       "1  Newsgroups: alt.atheism\\nPath: cantaloupe.srv....  alt.atheism\n",
       "2  Path: cantaloupe.srv.cs.cmu.edu!das-news.harva...  alt.atheism\n",
       "3  Path: cantaloupe.srv.cs.cmu.edu!magnesium.club...  alt.atheism\n",
       "4  Xref: cantaloupe.srv.cs.cmu.edu alt.atheism:53...  alt.atheism"
      ]
     },
     "execution_count": 3,
     "metadata": {},
     "output_type": "execute_result"
    }
   ],
   "source": [
    "blog = pd.read_csv(\"C:\\\\Users\\\\hp\\\\Downloads\\\\blogs.csv\",encoding = \"ISO-8859-1\")\n",
    "blog.head()"
   ]
  },
  {
   "cell_type": "code",
   "execution_count": 5,
   "metadata": {
    "colab": {
     "base_uri": "https://localhost:8080/"
    },
    "executionInfo": {
     "elapsed": 6,
     "status": "ok",
     "timestamp": 1668663033825,
     "user": {
      "displayName": "Salem Sameer Shaikh",
      "userId": "05291575250389740253"
     },
     "user_tz": -330
    },
    "id": "cwjrIiv_bO89",
    "outputId": "13a217f2-26c9-45c9-fbf3-cb9a94569028"
   },
   "outputs": [
    {
     "name": "stdout",
     "output_type": "stream",
     "text": [
      "<class 'pandas.core.frame.DataFrame'>\n",
      "RangeIndex: 2000 entries, 0 to 1999\n",
      "Data columns (total 2 columns):\n",
      " #   Column  Non-Null Count  Dtype \n",
      "---  ------  --------------  ----- \n",
      " 0   Data    2000 non-null   object\n",
      " 1   Labels  2000 non-null   object\n",
      "dtypes: object(2)\n",
      "memory usage: 31.4+ KB\n"
     ]
    }
   ],
   "source": [
    "blog.info()"
   ]
  },
  {
   "cell_type": "markdown",
   "metadata": {
    "id": "_DOLDRUQbO89"
   },
   "source": [
    "#### Preprocess the data"
   ]
  },
  {
   "cell_type": "code",
   "execution_count": 7,
   "metadata": {},
   "outputs": [],
   "source": [
    "def clean_Data(Data, remove_stopwords=True, use_stemming=False, use_lemmatization=False):\n",
    "    \n",
    "    # Initialize stemmer and lemmatizer\n",
    "    stemmer = PorterStemmer()\n",
    "    lemmatizer = WordNetLemmatizer()\n",
    "    # Lowercase the text\n",
    "    Data = Data.lower()\n",
    "    # Remove punctuation\n",
    "    Data = re.sub(r'[^\\w\\s]', '', Data)\n",
    "    # Remove numbers\n",
    "    Data = re.sub(r'\\d+', '', Data)\n",
    "    # Tokenize the text\n",
    "    tokens = Data.split()\n",
    "    if remove_stopwords:\n",
    "        # Remove stopwords\n",
    "        stop_words = set(stopwords.words('english'))\n",
    "        tokens = [word for word in tokens if word not in stop_words]\n",
    "    if use_stemming:\n",
    "        # Apply stemming\n",
    "        tokens = [stemmer.stem(word) for word in tokens]\n",
    "    if use_lemmatization:\n",
    "        # Apply lemmatization\n",
    "        tokens = [lemmatizer.lemmatize(word) for word in tokens]\n",
    "    # Join tokens back into a single string\n",
    "    return ' '.join(tokens)\n",
    "\n",
    "clean = lambda x: clean_Data(x)"
   ]
  },
  {
   "cell_type": "code",
   "execution_count": 9,
   "metadata": {
    "colab": {
     "base_uri": "https://localhost:8080/"
    },
    "executionInfo": {
     "elapsed": 1128,
     "status": "ok",
     "timestamp": 1668663034949,
     "user": {
      "displayName": "Salem Sameer Shaikh",
      "userId": "05291575250389740253"
     },
     "user_tz": -330
    },
    "id": "qYyw1K8gbO89",
    "outputId": "17a08dc4-21c2-4a6f-e7d5-cb4573d72331"
   },
   "outputs": [
    {
     "data": {
      "text/html": [
       "<div>\n",
       "<style scoped>\n",
       "    .dataframe tbody tr th:only-of-type {\n",
       "        vertical-align: middle;\n",
       "    }\n",
       "\n",
       "    .dataframe tbody tr th {\n",
       "        vertical-align: top;\n",
       "    }\n",
       "\n",
       "    .dataframe thead th {\n",
       "        text-align: right;\n",
       "    }\n",
       "</style>\n",
       "<table border=\"1\" class=\"dataframe\">\n",
       "  <thead>\n",
       "    <tr style=\"text-align: right;\">\n",
       "      <th></th>\n",
       "      <th>Data</th>\n",
       "      <th>Labels</th>\n",
       "      <th>cleaned_Data</th>\n",
       "    </tr>\n",
       "  </thead>\n",
       "  <tbody>\n",
       "    <tr>\n",
       "      <th>0</th>\n",
       "      <td>Path: cantaloupe.srv.cs.cmu.edu!magnesium.club...</td>\n",
       "      <td>alt.atheism</td>\n",
       "      <td>path cantaloupesrvcscmuedumagnesiumclubcccmued...</td>\n",
       "    </tr>\n",
       "    <tr>\n",
       "      <th>1</th>\n",
       "      <td>Newsgroups: alt.atheism\\nPath: cantaloupe.srv....</td>\n",
       "      <td>alt.atheism</td>\n",
       "      <td>newsgroups altatheism path cantaloupesrvcscmue...</td>\n",
       "    </tr>\n",
       "    <tr>\n",
       "      <th>2</th>\n",
       "      <td>Path: cantaloupe.srv.cs.cmu.edu!das-news.harva...</td>\n",
       "      <td>alt.atheism</td>\n",
       "      <td>path cantaloupesrvcscmuedudasnewsharvardedunoc...</td>\n",
       "    </tr>\n",
       "    <tr>\n",
       "      <th>3</th>\n",
       "      <td>Path: cantaloupe.srv.cs.cmu.edu!magnesium.club...</td>\n",
       "      <td>alt.atheism</td>\n",
       "      <td>path cantaloupesrvcscmuedumagnesiumclubcccmued...</td>\n",
       "    </tr>\n",
       "    <tr>\n",
       "      <th>4</th>\n",
       "      <td>Xref: cantaloupe.srv.cs.cmu.edu alt.atheism:53...</td>\n",
       "      <td>alt.atheism</td>\n",
       "      <td>xref cantaloupesrvcscmuedu altatheism talkreli...</td>\n",
       "    </tr>\n",
       "    <tr>\n",
       "      <th>...</th>\n",
       "      <td>...</td>\n",
       "      <td>...</td>\n",
       "      <td>...</td>\n",
       "    </tr>\n",
       "    <tr>\n",
       "      <th>1995</th>\n",
       "      <td>Xref: cantaloupe.srv.cs.cmu.edu talk.abortion:...</td>\n",
       "      <td>talk.religion.misc</td>\n",
       "      <td>xref cantaloupesrvcscmuedu talkabortion altath...</td>\n",
       "    </tr>\n",
       "    <tr>\n",
       "      <th>1996</th>\n",
       "      <td>Xref: cantaloupe.srv.cs.cmu.edu talk.religion....</td>\n",
       "      <td>talk.religion.misc</td>\n",
       "      <td>xref cantaloupesrvcscmuedu talkreligionmisc ta...</td>\n",
       "    </tr>\n",
       "    <tr>\n",
       "      <th>1997</th>\n",
       "      <td>Xref: cantaloupe.srv.cs.cmu.edu talk.origins:4...</td>\n",
       "      <td>talk.religion.misc</td>\n",
       "      <td>xref cantaloupesrvcscmuedu talkorigins talkrel...</td>\n",
       "    </tr>\n",
       "    <tr>\n",
       "      <th>1998</th>\n",
       "      <td>Xref: cantaloupe.srv.cs.cmu.edu talk.religion....</td>\n",
       "      <td>talk.religion.misc</td>\n",
       "      <td>xref cantaloupesrvcscmuedu talkreligionmisc al...</td>\n",
       "    </tr>\n",
       "    <tr>\n",
       "      <th>1999</th>\n",
       "      <td>Xref: cantaloupe.srv.cs.cmu.edu sci.skeptic:43...</td>\n",
       "      <td>talk.religion.misc</td>\n",
       "      <td>xref cantaloupesrvcscmuedu sciskeptic talkpoli...</td>\n",
       "    </tr>\n",
       "  </tbody>\n",
       "</table>\n",
       "<p>2000 rows × 3 columns</p>\n",
       "</div>"
      ],
      "text/plain": [
       "                                                   Data              Labels  \\\n",
       "0     Path: cantaloupe.srv.cs.cmu.edu!magnesium.club...         alt.atheism   \n",
       "1     Newsgroups: alt.atheism\\nPath: cantaloupe.srv....         alt.atheism   \n",
       "2     Path: cantaloupe.srv.cs.cmu.edu!das-news.harva...         alt.atheism   \n",
       "3     Path: cantaloupe.srv.cs.cmu.edu!magnesium.club...         alt.atheism   \n",
       "4     Xref: cantaloupe.srv.cs.cmu.edu alt.atheism:53...         alt.atheism   \n",
       "...                                                 ...                 ...   \n",
       "1995  Xref: cantaloupe.srv.cs.cmu.edu talk.abortion:...  talk.religion.misc   \n",
       "1996  Xref: cantaloupe.srv.cs.cmu.edu talk.religion....  talk.religion.misc   \n",
       "1997  Xref: cantaloupe.srv.cs.cmu.edu talk.origins:4...  talk.religion.misc   \n",
       "1998  Xref: cantaloupe.srv.cs.cmu.edu talk.religion....  talk.religion.misc   \n",
       "1999  Xref: cantaloupe.srv.cs.cmu.edu sci.skeptic:43...  talk.religion.misc   \n",
       "\n",
       "                                           cleaned_Data  \n",
       "0     path cantaloupesrvcscmuedumagnesiumclubcccmued...  \n",
       "1     newsgroups altatheism path cantaloupesrvcscmue...  \n",
       "2     path cantaloupesrvcscmuedudasnewsharvardedunoc...  \n",
       "3     path cantaloupesrvcscmuedumagnesiumclubcccmued...  \n",
       "4     xref cantaloupesrvcscmuedu altatheism talkreli...  \n",
       "...                                                 ...  \n",
       "1995  xref cantaloupesrvcscmuedu talkabortion altath...  \n",
       "1996  xref cantaloupesrvcscmuedu talkreligionmisc ta...  \n",
       "1997  xref cantaloupesrvcscmuedu talkorigins talkrel...  \n",
       "1998  xref cantaloupesrvcscmuedu talkreligionmisc al...  \n",
       "1999  xref cantaloupesrvcscmuedu sciskeptic talkpoli...  \n",
       "\n",
       "[2000 rows x 3 columns]"
      ]
     },
     "execution_count": 9,
     "metadata": {},
     "output_type": "execute_result"
    }
   ],
   "source": [
    "blog['cleaned_Data'] = blog.Data.apply(clean)\n",
    "blog"
   ]
  },
  {
   "cell_type": "markdown",
   "metadata": {},
   "source": [
    "#### Convert text data into TFIdf vectorizer"
   ]
  },
  {
   "cell_type": "code",
   "execution_count": 11,
   "metadata": {},
   "outputs": [],
   "source": [
    "# Feature extraction\n",
    "vectorizer = TfidfVectorizer(max_df= 1000, max_features= 10000)\n",
    "x = vectorizer.fit_transform(blog['cleaned_Data'])\n",
    "y = blog['Labels']"
   ]
  },
  {
   "cell_type": "markdown",
   "metadata": {},
   "source": [
    "### 2. Naive Bayes Classifier"
   ]
  },
  {
   "cell_type": "markdown",
   "metadata": {},
   "source": [
    "#### Split the data"
   ]
  },
  {
   "cell_type": "code",
   "execution_count": 13,
   "metadata": {},
   "outputs": [
    {
     "name": "stdout",
     "output_type": "stream",
     "text": [
      "(1600, 10000) (400, 10000) (1600,) (400,)\n"
     ]
    }
   ],
   "source": [
    "x_train, x_test, y_train, y_test = train_test_split(x, y, test_size=0.2, random_state=42)\n",
    "print(x_train.shape, x_test.shape, y_train.shape, y_test.shape)"
   ]
  },
  {
   "cell_type": "markdown",
   "metadata": {},
   "source": [
    "#### Multinomial Naive Bayes"
   ]
  },
  {
   "cell_type": "code",
   "execution_count": 15,
   "metadata": {},
   "outputs": [],
   "source": [
    "model = MultinomialNB()\n",
    "model.fit(x_train, y_train)\n",
    "y_pred = model.predict(x_test)"
   ]
  },
  {
   "cell_type": "markdown",
   "metadata": {},
   "source": [
    "#### Evaluation"
   ]
  },
  {
   "cell_type": "code",
   "execution_count": 17,
   "metadata": {},
   "outputs": [
    {
     "name": "stdout",
     "output_type": "stream",
     "text": [
      "Classification Report for train:\n",
      "                           precision    recall  f1-score   support\n",
      "\n",
      "             alt.atheism       0.93      0.99      0.96        82\n",
      "           comp.graphics       1.00      0.99      0.99        82\n",
      " comp.os.ms-windows.misc       0.99      0.99      0.99        78\n",
      "comp.sys.ibm.pc.hardware       0.97      0.99      0.98        75\n",
      "   comp.sys.mac.hardware       1.00      1.00      1.00        79\n",
      "          comp.windows.x       1.00      1.00      1.00        75\n",
      "            misc.forsale       0.99      1.00      0.99        82\n",
      "               rec.autos       1.00      1.00      1.00        82\n",
      "         rec.motorcycles       1.00      0.99      0.99        84\n",
      "      rec.sport.baseball       1.00      1.00      1.00        82\n",
      "        rec.sport.hockey       1.00      1.00      1.00        85\n",
      "               sci.crypt       1.00      1.00      1.00        81\n",
      "         sci.electronics       1.00      1.00      1.00        84\n",
      "                 sci.med       1.00      1.00      1.00        83\n",
      "               sci.space       1.00      1.00      1.00        79\n",
      "  soc.religion.christian       0.99      1.00      0.99        77\n",
      "      talk.politics.guns       0.99      1.00      0.99        72\n",
      "   talk.politics.mideast       0.99      1.00      0.99        80\n",
      "      talk.politics.misc       0.99      0.98      0.98        82\n",
      "      talk.religion.misc       0.97      0.88      0.92        76\n",
      "\n",
      "                accuracy                           0.99      1600\n",
      "               macro avg       0.99      0.99      0.99      1600\n",
      "            weighted avg       0.99      0.99      0.99      1600\n",
      "\n",
      "Classification Report for test:\n",
      "                           precision    recall  f1-score   support\n",
      "\n",
      "             alt.atheism       0.54      0.83      0.65        18\n",
      "           comp.graphics       0.76      0.89      0.82        18\n",
      " comp.os.ms-windows.misc       0.95      0.91      0.93        22\n",
      "comp.sys.ibm.pc.hardware       0.84      0.84      0.84        25\n",
      "   comp.sys.mac.hardware       0.80      0.95      0.87        21\n",
      "          comp.windows.x       1.00      0.88      0.94        25\n",
      "            misc.forsale       1.00      0.72      0.84        18\n",
      "               rec.autos       0.94      0.94      0.94        18\n",
      "         rec.motorcycles       0.94      0.94      0.94        16\n",
      "      rec.sport.baseball       0.84      0.89      0.86        18\n",
      "        rec.sport.hockey       0.88      1.00      0.94        15\n",
      "               sci.crypt       0.83      1.00      0.90        19\n",
      "         sci.electronics       0.76      0.81      0.79        16\n",
      "                 sci.med       0.88      0.88      0.88        17\n",
      "               sci.space       1.00      0.90      0.95        21\n",
      "  soc.religion.christian       0.85      0.96      0.90        23\n",
      "      talk.politics.guns       0.92      0.79      0.85        28\n",
      "   talk.politics.mideast       0.95      0.95      0.95        20\n",
      "      talk.politics.misc       0.73      0.89      0.80        18\n",
      "      talk.religion.misc       0.57      0.17      0.26        24\n",
      "\n",
      "                accuracy                           0.85       400\n",
      "               macro avg       0.85      0.86      0.84       400\n",
      "            weighted avg       0.85      0.85      0.84       400\n",
      "\n"
     ]
    }
   ],
   "source": [
    "print(\"Classification Report for train:\\n\", classification_report(y_train, model.predict(x_train)))\n",
    "print(\"Classification Report for test:\\n\", classification_report(y_test, y_pred))"
   ]
  },
  {
   "cell_type": "markdown",
   "metadata": {},
   "source": [
    "#### Gaussian Naive Bayes"
   ]
  },
  {
   "cell_type": "code",
   "execution_count": 19,
   "metadata": {},
   "outputs": [],
   "source": [
    "model2= GaussianNB()\n",
    "model2.fit(x_train.toarray(), y_train)\n",
    "y_pred_G = model2.predict(x_test.toarray())"
   ]
  },
  {
   "cell_type": "code",
   "execution_count": 21,
   "metadata": {},
   "outputs": [
    {
     "name": "stdout",
     "output_type": "stream",
     "text": [
      "Classification Report for train:\n",
      "                           precision    recall  f1-score   support\n",
      "\n",
      "             alt.atheism       1.00      1.00      1.00        82\n",
      "           comp.graphics       1.00      1.00      1.00        82\n",
      " comp.os.ms-windows.misc       1.00      1.00      1.00        78\n",
      "comp.sys.ibm.pc.hardware       1.00      1.00      1.00        75\n",
      "   comp.sys.mac.hardware       1.00      1.00      1.00        79\n",
      "          comp.windows.x       1.00      1.00      1.00        75\n",
      "            misc.forsale       1.00      1.00      1.00        82\n",
      "               rec.autos       1.00      1.00      1.00        82\n",
      "         rec.motorcycles       1.00      1.00      1.00        84\n",
      "      rec.sport.baseball       1.00      1.00      1.00        82\n",
      "        rec.sport.hockey       1.00      1.00      1.00        85\n",
      "               sci.crypt       1.00      1.00      1.00        81\n",
      "         sci.electronics       1.00      1.00      1.00        84\n",
      "                 sci.med       1.00      1.00      1.00        83\n",
      "               sci.space       1.00      1.00      1.00        79\n",
      "  soc.religion.christian       1.00      1.00      1.00        77\n",
      "      talk.politics.guns       1.00      1.00      1.00        72\n",
      "   talk.politics.mideast       1.00      1.00      1.00        80\n",
      "      talk.politics.misc       1.00      1.00      1.00        82\n",
      "      talk.religion.misc       1.00      1.00      1.00        76\n",
      "\n",
      "                accuracy                           1.00      1600\n",
      "               macro avg       1.00      1.00      1.00      1600\n",
      "            weighted avg       1.00      1.00      1.00      1600\n",
      "\n",
      "Classification Report for test:\n",
      "                           precision    recall  f1-score   support\n",
      "\n",
      "             alt.atheism       0.53      0.56      0.54        18\n",
      "           comp.graphics       0.34      0.72      0.46        18\n",
      " comp.os.ms-windows.misc       0.71      0.55      0.62        22\n",
      "comp.sys.ibm.pc.hardware       0.71      0.48      0.57        25\n",
      "   comp.sys.mac.hardware       0.67      0.48      0.56        21\n",
      "          comp.windows.x       0.65      0.60      0.62        25\n",
      "            misc.forsale       0.60      0.33      0.43        18\n",
      "               rec.autos       0.64      0.50      0.56        18\n",
      "         rec.motorcycles       0.79      0.69      0.73        16\n",
      "      rec.sport.baseball       0.88      0.83      0.86        18\n",
      "        rec.sport.hockey       0.82      0.93      0.88        15\n",
      "               sci.crypt       0.74      0.89      0.81        19\n",
      "         sci.electronics       0.50      0.38      0.43        16\n",
      "                 sci.med       0.75      0.71      0.73        17\n",
      "               sci.space       0.78      0.86      0.82        21\n",
      "  soc.religion.christian       0.86      0.78      0.82        23\n",
      "      talk.politics.guns       0.77      0.61      0.68        28\n",
      "   talk.politics.mideast       0.62      0.90      0.73        20\n",
      "      talk.politics.misc       0.40      0.78      0.53        18\n",
      "      talk.religion.misc       0.56      0.42      0.48        24\n",
      "\n",
      "                accuracy                           0.64       400\n",
      "               macro avg       0.67      0.65      0.64       400\n",
      "            weighted avg       0.67      0.64      0.64       400\n",
      "\n"
     ]
    }
   ],
   "source": [
    "print(\"Classification Report for train:\\n\", classification_report(y_train, model2.predict(x_train.toarray())))\n",
    "print(\"Classification Report for test:\\n\", classification_report(y_test, y_pred_G))"
   ]
  },
  {
   "cell_type": "markdown",
   "metadata": {},
   "source": [
    "### 3. Sentiment Analysis"
   ]
  },
  {
   "cell_type": "code",
   "execution_count": 23,
   "metadata": {},
   "outputs": [],
   "source": [
    "def get_sentiment(cleaned_Data):\n",
    "    blob = TextBlob(cleaned_Data)\n",
    "    sentiment = blob.sentiment.polarity\n",
    "    if sentiment > 0:\n",
    "        return 'positive'\n",
    "    elif sentiment < 0:\n",
    "        return 'negative'\n",
    "    else:\n",
    "        return 'neutral'"
   ]
  },
  {
   "cell_type": "code",
   "execution_count": 25,
   "metadata": {},
   "outputs": [
    {
     "data": {
      "text/html": [
       "<div>\n",
       "<style scoped>\n",
       "    .dataframe tbody tr th:only-of-type {\n",
       "        vertical-align: middle;\n",
       "    }\n",
       "\n",
       "    .dataframe tbody tr th {\n",
       "        vertical-align: top;\n",
       "    }\n",
       "\n",
       "    .dataframe thead th {\n",
       "        text-align: right;\n",
       "    }\n",
       "</style>\n",
       "<table border=\"1\" class=\"dataframe\">\n",
       "  <thead>\n",
       "    <tr style=\"text-align: right;\">\n",
       "      <th></th>\n",
       "      <th>Data</th>\n",
       "      <th>Labels</th>\n",
       "      <th>cleaned_Data</th>\n",
       "      <th>Sentiment</th>\n",
       "    </tr>\n",
       "  </thead>\n",
       "  <tbody>\n",
       "    <tr>\n",
       "      <th>0</th>\n",
       "      <td>Path: cantaloupe.srv.cs.cmu.edu!magnesium.club...</td>\n",
       "      <td>alt.atheism</td>\n",
       "      <td>path cantaloupesrvcscmuedumagnesiumclubcccmued...</td>\n",
       "      <td>positive</td>\n",
       "    </tr>\n",
       "    <tr>\n",
       "      <th>1</th>\n",
       "      <td>Newsgroups: alt.atheism\\nPath: cantaloupe.srv....</td>\n",
       "      <td>alt.atheism</td>\n",
       "      <td>newsgroups altatheism path cantaloupesrvcscmue...</td>\n",
       "      <td>negative</td>\n",
       "    </tr>\n",
       "    <tr>\n",
       "      <th>2</th>\n",
       "      <td>Path: cantaloupe.srv.cs.cmu.edu!das-news.harva...</td>\n",
       "      <td>alt.atheism</td>\n",
       "      <td>path cantaloupesrvcscmuedudasnewsharvardedunoc...</td>\n",
       "      <td>positive</td>\n",
       "    </tr>\n",
       "    <tr>\n",
       "      <th>3</th>\n",
       "      <td>Path: cantaloupe.srv.cs.cmu.edu!magnesium.club...</td>\n",
       "      <td>alt.atheism</td>\n",
       "      <td>path cantaloupesrvcscmuedumagnesiumclubcccmued...</td>\n",
       "      <td>positive</td>\n",
       "    </tr>\n",
       "    <tr>\n",
       "      <th>4</th>\n",
       "      <td>Xref: cantaloupe.srv.cs.cmu.edu alt.atheism:53...</td>\n",
       "      <td>alt.atheism</td>\n",
       "      <td>xref cantaloupesrvcscmuedu altatheism talkreli...</td>\n",
       "      <td>positive</td>\n",
       "    </tr>\n",
       "    <tr>\n",
       "      <th>...</th>\n",
       "      <td>...</td>\n",
       "      <td>...</td>\n",
       "      <td>...</td>\n",
       "      <td>...</td>\n",
       "    </tr>\n",
       "    <tr>\n",
       "      <th>1995</th>\n",
       "      <td>Xref: cantaloupe.srv.cs.cmu.edu talk.abortion:...</td>\n",
       "      <td>talk.religion.misc</td>\n",
       "      <td>xref cantaloupesrvcscmuedu talkabortion altath...</td>\n",
       "      <td>positive</td>\n",
       "    </tr>\n",
       "    <tr>\n",
       "      <th>1996</th>\n",
       "      <td>Xref: cantaloupe.srv.cs.cmu.edu talk.religion....</td>\n",
       "      <td>talk.religion.misc</td>\n",
       "      <td>xref cantaloupesrvcscmuedu talkreligionmisc ta...</td>\n",
       "      <td>positive</td>\n",
       "    </tr>\n",
       "    <tr>\n",
       "      <th>1997</th>\n",
       "      <td>Xref: cantaloupe.srv.cs.cmu.edu talk.origins:4...</td>\n",
       "      <td>talk.religion.misc</td>\n",
       "      <td>xref cantaloupesrvcscmuedu talkorigins talkrel...</td>\n",
       "      <td>positive</td>\n",
       "    </tr>\n",
       "    <tr>\n",
       "      <th>1998</th>\n",
       "      <td>Xref: cantaloupe.srv.cs.cmu.edu talk.religion....</td>\n",
       "      <td>talk.religion.misc</td>\n",
       "      <td>xref cantaloupesrvcscmuedu talkreligionmisc al...</td>\n",
       "      <td>positive</td>\n",
       "    </tr>\n",
       "    <tr>\n",
       "      <th>1999</th>\n",
       "      <td>Xref: cantaloupe.srv.cs.cmu.edu sci.skeptic:43...</td>\n",
       "      <td>talk.religion.misc</td>\n",
       "      <td>xref cantaloupesrvcscmuedu sciskeptic talkpoli...</td>\n",
       "      <td>positive</td>\n",
       "    </tr>\n",
       "  </tbody>\n",
       "</table>\n",
       "<p>2000 rows × 4 columns</p>\n",
       "</div>"
      ],
      "text/plain": [
       "                                                   Data              Labels  \\\n",
       "0     Path: cantaloupe.srv.cs.cmu.edu!magnesium.club...         alt.atheism   \n",
       "1     Newsgroups: alt.atheism\\nPath: cantaloupe.srv....         alt.atheism   \n",
       "2     Path: cantaloupe.srv.cs.cmu.edu!das-news.harva...         alt.atheism   \n",
       "3     Path: cantaloupe.srv.cs.cmu.edu!magnesium.club...         alt.atheism   \n",
       "4     Xref: cantaloupe.srv.cs.cmu.edu alt.atheism:53...         alt.atheism   \n",
       "...                                                 ...                 ...   \n",
       "1995  Xref: cantaloupe.srv.cs.cmu.edu talk.abortion:...  talk.religion.misc   \n",
       "1996  Xref: cantaloupe.srv.cs.cmu.edu talk.religion....  talk.religion.misc   \n",
       "1997  Xref: cantaloupe.srv.cs.cmu.edu talk.origins:4...  talk.religion.misc   \n",
       "1998  Xref: cantaloupe.srv.cs.cmu.edu talk.religion....  talk.religion.misc   \n",
       "1999  Xref: cantaloupe.srv.cs.cmu.edu sci.skeptic:43...  talk.religion.misc   \n",
       "\n",
       "                                           cleaned_Data Sentiment  \n",
       "0     path cantaloupesrvcscmuedumagnesiumclubcccmued...  positive  \n",
       "1     newsgroups altatheism path cantaloupesrvcscmue...  negative  \n",
       "2     path cantaloupesrvcscmuedudasnewsharvardedunoc...  positive  \n",
       "3     path cantaloupesrvcscmuedumagnesiumclubcccmued...  positive  \n",
       "4     xref cantaloupesrvcscmuedu altatheism talkreli...  positive  \n",
       "...                                                 ...       ...  \n",
       "1995  xref cantaloupesrvcscmuedu talkabortion altath...  positive  \n",
       "1996  xref cantaloupesrvcscmuedu talkreligionmisc ta...  positive  \n",
       "1997  xref cantaloupesrvcscmuedu talkorigins talkrel...  positive  \n",
       "1998  xref cantaloupesrvcscmuedu talkreligionmisc al...  positive  \n",
       "1999  xref cantaloupesrvcscmuedu sciskeptic talkpoli...  positive  \n",
       "\n",
       "[2000 rows x 4 columns]"
      ]
     },
     "execution_count": 25,
     "metadata": {},
     "output_type": "execute_result"
    }
   ],
   "source": [
    "blog['Sentiment'] = blog['cleaned_Data'].apply(get_sentiment)\n",
    "blog"
   ]
  },
  {
   "cell_type": "code",
   "execution_count": 27,
   "metadata": {},
   "outputs": [
    {
     "data": {
      "text/plain": [
       "Sentiment\n",
       "positive    1453\n",
       "negative     544\n",
       "neutral        3\n",
       "Name: count, dtype: int64"
      ]
     },
     "execution_count": 27,
     "metadata": {},
     "output_type": "execute_result"
    }
   ],
   "source": [
    "sentiment_counts = blog['Sentiment'].value_counts()\n",
    "sentiment_counts"
   ]
  },
  {
   "cell_type": "code",
   "execution_count": 29,
   "metadata": {},
   "outputs": [
    {
     "data": {
      "image/png": "[encoded data removed]",
      "text/plain": [
       "<Figure size 1000x600 with 1 Axes>"
      ]
     },
     "metadata": {},
     "output_type": "display_data"
    }
   ],
   "source": [
    "warnings.filterwarnings('ignore')\n",
    "plt.figure(figsize=(10, 6))\n",
    "sns.barplot(x=sentiment_counts.index, y=sentiment_counts.values, palette='viridis')\n",
    "plt.title('Sentiment Distribution in Blog Posts')\n",
    "plt.xlabel('Sentiment')\n",
    "plt.ylabel('Count')\n",
    "plt.show()"
   ]
  },
  {
   "cell_type": "code",
   "execution_count": 33,
   "metadata": {},
   "outputs": [
    {
     "name": "stdout",
     "output_type": "stream",
     "text": [
      "Total Blogs: 2000\n",
      "Positive Blogs: 1453 (72.65%)\n",
      "Negative Blogs: 544 (27.20%)\n",
      "Neutral Blogs: 3 (0.15%)\n"
     ]
    }
   ],
   "source": [
    "total_posts = len(blog)\n",
    "positive_posts = sentiment_counts.get('positive', 0)\n",
    "negative_posts = sentiment_counts.get('negative', 0)\n",
    "neutral_posts = sentiment_counts.get('neutral', 0)\n",
    "\n",
    "print(f\"Total Blogs: {total_posts}\")\n",
    "print(f\"Positive Blogs: {positive_posts} ({positive_posts/total_posts:.2%})\")\n",
    "print(f\"Negative Blogs: {negative_posts} ({negative_posts/total_posts:.2%})\")\n",
    "print(f\"Neutral Blogs: {neutral_posts} ({neutral_posts/total_posts:.2%})\")"
   ]
  },
  {
   "cell_type": "markdown",
   "metadata": {},
   "source": [
    "### 4. Evaluation"
   ]
  },
  {
   "cell_type": "markdown",
   "metadata": {},
   "source": [
    "#### Multinomial Naive Bayes Classifier"
   ]
  },
  {
   "cell_type": "markdown",
   "metadata": {},
   "source": [
    "***Training Set Performance:***\n",
    "1. **Overall Accuracy:** 99%\n",
    "2. **Precision:** Average of 99%, which means that most of the predicted labels are correct.\n",
    "3. **Recall:** Average of 99%, indicating that the model identifies almost all instances of each class.\n",
    "4. **F1-Score:** Average of 99%, a balance of precision and recall, showing overall high performance."
   ]
  },
  {
   "cell_type": "markdown",
   "metadata": {},
   "source": [
    "The model performs exceptionally well on the training set, with near-perfect scores across all metrics. This suggests that the model is well-trained and fits the training data very effectively."
   ]
  },
  {
   "cell_type": "markdown",
   "metadata": {},
   "source": [
    "***Test Set Performance:***\n",
    "1. **Overall Accuracy:** 85%\n",
    "2. **Precision:** Average of 85%, which is lower than the training set but still indicates good performance in terms of correctly identifying positive instances of each class.\n",
    "3. **Recall:** Average of 86%, slightly higher than precision, showing good coverage of each class.\n",
    "4. **F1-Score:** Average of 84%, reflecting a balance between precision and recall, though lower than on the training set."
   ]
  },
  {
   "cell_type": "markdown",
   "metadata": {},
   "source": [
    "1. **Drop in Performance:** There is a significant drop in performance from the training set to the test set. The accuracy, precision, recall, and F1-score on the test set are notably lower. This indicates that the model struggles to generalize to unseen data, which is a common issue known as overfitting.\n",
    "2. **Consistency:** While precision, recall, and F1-scores are still good, the drop shows that the model's predictions are less reliable on new data compared to the training data."
   ]
  },
  {
   "cell_type": "markdown",
   "metadata": {},
   "source": [
    "The sentiment analysis reveals that the blog posts primarily express positive sentiments, with a notable portion also expressing negative sentiments. The very low neutral sentiment suggests that the content is highly opinionated or emotionally charged. By reflecting on these results, you can refine your content strategy to enhance positive engagement, address negative feedback, and consider incorporating more neutral content if it aligns with your goals."
   ]
  }
 ],
 "metadata": {
  "colab": {
   "collapsed_sections": [
    "z6hN1kdKbO89",
    "k7LUvQsqbO89"
   ],
   "provenance": []
  },
  "kernelspec": {
   "display_name": "Python 3 (ipykernel)",
   "language": "python",
   "name": "python3"
  },
  "language_info": {
   "codemirror_mode": {
    "name": "ipython",
    "version": 3
   },
   "file_extension": ".py",
   "mimetype": "text/x-python",
   "name": "python",
   "nbconvert_exporter": "python",
   "pygments_lexer": "ipython3",
   "version": "3.12.4"
  }
 },
 "nbformat": 4,
 "nbformat_minor": 4
}
